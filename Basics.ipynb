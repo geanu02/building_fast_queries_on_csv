{
 "cells": [
  {
   "cell_type": "markdown",
   "metadata": {},
   "source": [
    "# Project: Building Fast Queries on a CSV"
   ]
  },
  {
   "cell_type": "markdown",
   "metadata": {},
   "source": [
    "## Reading the Inventory\n",
    "\n",
    "Use the `csv` module to read the `laptops.csv` file and separate the header from the rows."
   ]
  },
  {
   "cell_type": "code",
   "execution_count": 1,
   "metadata": {
    "collapsed": false
   },
   "outputs": [],
   "source": [
    "import csv\n",
    "opened_file = open('laptops.csv', encoding='UTF-8')\n",
    "read_file = csv.reader(opened_file)\n",
    "rows = list(read_file)\n",
    "opened_file.close()\n",
    "header = rows[0]\n",
    "rows = rows[1:]"
   ]
  },
  {
   "cell_type": "code",
   "execution_count": 2,
   "metadata": {
    "collapsed": false,
    "scrolled": true
   },
   "outputs": [
    {
     "data": {
      "text/plain": [
       "[['6571244',\n",
       "  'Apple',\n",
       "  'MacBook Pro',\n",
       "  'Ultrabook',\n",
       "  '13.3',\n",
       "  'IPS Panel Retina Display 2560x1600',\n",
       "  'Intel Core i5 2.3GHz',\n",
       "  '8GB',\n",
       "  '128GB SSD',\n",
       "  'Intel Iris Plus Graphics 640',\n",
       "  'macOS',\n",
       "  '1.37kg',\n",
       "  '1339'],\n",
       " ['7287764',\n",
       "  'Apple',\n",
       "  'Macbook Air',\n",
       "  'Ultrabook',\n",
       "  '13.3',\n",
       "  '1440x900',\n",
       "  'Intel Core i5 1.8GHz',\n",
       "  '8GB',\n",
       "  '128GB Flash Storage',\n",
       "  'Intel HD Graphics 6000',\n",
       "  'macOS',\n",
       "  '1.34kg',\n",
       "  '898'],\n",
       " ['3362737',\n",
       "  'HP',\n",
       "  '250 G6',\n",
       "  'Notebook',\n",
       "  '15.6',\n",
       "  'Full HD 1920x1080',\n",
       "  'Intel Core i5 7200U 2.5GHz',\n",
       "  '8GB',\n",
       "  '256GB SSD',\n",
       "  'Intel HD Graphics 620',\n",
       "  'No OS',\n",
       "  '1.86kg',\n",
       "  '575'],\n",
       " ['9722156',\n",
       "  'Apple',\n",
       "  'MacBook Pro',\n",
       "  'Ultrabook',\n",
       "  '15.4',\n",
       "  'IPS Panel Retina Display 2880x1800',\n",
       "  'Intel Core i7 2.7GHz',\n",
       "  '16GB',\n",
       "  '512GB SSD',\n",
       "  'AMD Radeon Pro 455',\n",
       "  'macOS',\n",
       "  '1.83kg',\n",
       "  '2537'],\n",
       " ['8550527',\n",
       "  'Apple',\n",
       "  'MacBook Pro',\n",
       "  'Ultrabook',\n",
       "  '13.3',\n",
       "  'IPS Panel Retina Display 2560x1600',\n",
       "  'Intel Core i5 3.1GHz',\n",
       "  '8GB',\n",
       "  '256GB SSD',\n",
       "  'Intel Iris Plus Graphics 650',\n",
       "  'macOS',\n",
       "  '1.37kg',\n",
       "  '1803']]"
      ]
     },
     "execution_count": 2,
     "metadata": {},
     "output_type": "execute_result"
    }
   ],
   "source": [
    "rows[0:5]"
   ]
  },
  {
   "cell_type": "markdown",
   "metadata": {},
   "source": [
    "## Inventory Class\n",
    "\n",
    "The `Inventory` class will be updated as the project progresses and as we come up with algorithms to improve their space and time complexities. The Numbering System will be a guide for where the class methods are required."
   ]
  },
  {
   "cell_type": "code",
   "execution_count": 12,
   "metadata": {
    "collapsed": true
   },
   "outputs": [],
   "source": [
    "def row_price(row):\n",
    "    return row[-1]\n",
    "    \n",
    "class Inventory():\n",
    "    def __init__(self, csv_filename):\n",
    "        with open(csv_filename) as f:\n",
    "            read_file = csv.reader(f)\n",
    "            rows = list(read_file)\n",
    "        self.header = rows[0]\n",
    "        self.rows = rows[1:]\n",
    "        for row in self.rows:\n",
    "            row[-1] = int(row[-1])\n",
    "### 2. Dictionary Added for Second Function ###\n",
    "        self.id_to_row = dict()\n",
    "        for row in self.rows:\n",
    "            self.id_to_row[row[0]] = row\n",
    "### 4. Set Added for Fourth Function ###\n",
    "        self.prices = set()\n",
    "        for row in self.rows:\n",
    "            self.prices.add(int(row[-1]))\n",
    "### 5. Sorted Added for Fifth & Sixth Function ###\n",
    "        self.rows_by_price = sorted(self.rows, key=row_price)\n",
    "\n",
    "### 1. First Function to Search ###\n",
    "    def get_laptop_from_id(self, laptop_id):\n",
    "        for row in self.rows:\n",
    "            if row[0] == laptop_id:\n",
    "                return row\n",
    "        return None\n",
    "    \n",
    "### 2. Second Function to Search ###\n",
    "    def get_laptop_from_id_fast(self, laptop_id):\n",
    "        if laptop_id in self.id_to_row:\n",
    "            return self.id_to_row[laptop_id]\n",
    "        return None\n",
    "    \n",
    "### 3. Third Function for Promotion ###\n",
    "    def check_promotion_dollars(self, dollars):\n",
    "        for row in self.rows:\n",
    "            if row[-1] == dollars:\n",
    "                return True\n",
    "        for row1 in self.rows:\n",
    "            for row2 in self.rows:\n",
    "                if row1[-1] + row2[-2] == dollars:\n",
    "                    return True\n",
    "        return False\n",
    "    \n",
    "### 4. Fourth Function for Promotion ###\n",
    "    def check_promotion_dollars_fast(self, dollars):\n",
    "        if dollars in self.prices:\n",
    "            return True\n",
    "        for price in self.prices:\n",
    "            if (dollars - price) in self.prices:\n",
    "                return True\n",
    "        return False\n",
    "    \n",
    "### 5. Fifth Function to Search Laptop by Price ###\n",
    "    def find_laptop_with_price(self, target_price):\n",
    "        range_start = 0                                   \n",
    "        range_end = len(self.rows_by_price) - 1                       \n",
    "        while range_start < range_end:\n",
    "            range_middle = (range_end + range_start) // 2  \n",
    "            value = self.rows_by_price[range_middle][-1]\n",
    "            if value == target_price:                            \n",
    "                return range_middle                        \n",
    "            elif value < target_price:                           \n",
    "                range_start = range_middle + 1             \n",
    "            else:                                          \n",
    "                range_end = range_middle - 1 \n",
    "        if self.rows_by_price[range_start][-1] != target_price:                  \n",
    "            return -1                                      \n",
    "        return range_start\n",
    "    \n",
    "### 5. Sixth Function to Search First Laptop    \n",
    "    def find_first_laptop_more_expensive(self, target_price):\n",
    "        range_start = 0                                   \n",
    "        range_end = len(self.rows_by_price) - 1                   \n",
    "        while range_start < range_end:\n",
    "            range_middle = (range_end + range_start) // 2  \n",
    "            price = self.rows_by_price[range_middle][-1]\n",
    "            if price > target_price:\n",
    "                range_end = range_middle\n",
    "            else:\n",
    "                range_start = range_middle + 1\n",
    "        if self.rows_by_price[range_start][-1] <= target_price:                  \n",
    "            return -1                                   \n",
    "        return range_start"
   ]
  },
  {
   "cell_type": "markdown",
   "metadata": {},
   "source": [
    "## Instantiation"
   ]
  },
  {
   "cell_type": "code",
   "execution_count": 4,
   "metadata": {
    "collapsed": false
   },
   "outputs": [
    {
     "name": "stdout",
     "output_type": "stream",
     "text": [
      "['Id', 'Company', 'Product', 'TypeName', 'Inches', 'ScreenResolution', 'Cpu', 'Ram', 'Memory', 'Gpu', 'OpSys', 'Weight', 'Price']\n",
      "1303\n"
     ]
    }
   ],
   "source": [
    "inventory = Inventory('laptops.csv')\n",
    "print(inventory.header)\n",
    "print(len(inventory.rows))"
   ]
  },
  {
   "cell_type": "markdown",
   "metadata": {},
   "source": [
    "## 1. Finding a Laptop from the ID"
   ]
  },
  {
   "cell_type": "code",
   "execution_count": 5,
   "metadata": {
    "collapsed": false
   },
   "outputs": [
    {
     "name": "stdout",
     "output_type": "stream",
     "text": [
      "['3362737', 'HP', '250 G6', 'Notebook', '15.6', 'Full HD 1920x1080', 'Intel Core i5 7200U 2.5GHz', '8GB', '256GB SSD', 'Intel HD Graphics 620', 'No OS', '1.86kg', '575']\n",
      "None\n"
     ]
    }
   ],
   "source": [
    "print(inventory.get_laptop_from_id('3362737'))\n",
    "print(inventory.get_laptop_from_id('3362736'))"
   ]
  },
  {
   "cell_type": "markdown",
   "metadata": {},
   "source": [
    "## 2. Improving the ID Finder function algorithm\n",
    "\n",
    "Improve the time complexity of searching a laptop with a given ID by precomputing a dictionary that maps laptop ID's to rows."
   ]
  },
  {
   "cell_type": "code",
   "execution_count": 6,
   "metadata": {
    "collapsed": false
   },
   "outputs": [
    {
     "name": "stdout",
     "output_type": "stream",
     "text": [
      "['3362737', 'HP', '250 G6', 'Notebook', '15.6', 'Full HD 1920x1080', 'Intel Core i5 7200U 2.5GHz', '8GB', '256GB SSD', 'Intel HD Graphics 620', 'No OS', '1.86kg', '575']\n",
      "None\n"
     ]
    }
   ],
   "source": [
    "inventory = Inventory('laptops.csv')\n",
    "print(inventory.get_laptop_from_id_fast('3362737'))\n",
    "print(inventory.get_laptop_from_id_fast('3362736'))"
   ]
  },
  {
   "cell_type": "markdown",
   "metadata": {},
   "source": [
    "## Measuring the Difference in Time Complexity"
   ]
  },
  {
   "cell_type": "code",
   "execution_count": 7,
   "metadata": {
    "collapsed": false
   },
   "outputs": [
    {
     "name": "stdout",
     "output_type": "stream",
     "text": [
      "1.5712904930114746\n",
      "0.006552934646606445\n"
     ]
    }
   ],
   "source": [
    "import time\n",
    "import random\n",
    "\n",
    "ids = [str(random.randint(1000000, 9999999)) for _ in range(10000)]\n",
    "\n",
    "inventory = Inventory('laptops.csv')\n",
    "total_time_no_dict = 0\n",
    "for each in ids:\n",
    "    start = time.time()\n",
    "    inventory.get_laptop_from_id(each)\n",
    "    end = time.time()\n",
    "    total_time_no_dict += end - start\n",
    "total_time_dict = 0\n",
    "for each in ids:\n",
    "    start = time.time()\n",
    "    inventory.get_laptop_from_id_fast(each)\n",
    "    end = time.time()\n",
    "    total_time_dict += end - start\n",
    "print(total_time_no_dict)\n",
    "print(total_time_dict)"
   ]
  },
  {
   "cell_type": "markdown",
   "metadata": {},
   "source": [
    "## 3. Two Laptop Promotion by a One-Time Use Gift Card\n",
    "\n",
    "Add a function that, given a dollar amount, checks whether it is possible to spend precisely that amount by purchasing up to two laptops."
   ]
  },
  {
   "cell_type": "code",
   "execution_count": 8,
   "metadata": {
    "collapsed": false
   },
   "outputs": [
    {
     "name": "stdout",
     "output_type": "stream",
     "text": [
      "False\n",
      "False\n"
     ]
    }
   ],
   "source": [
    "inventory = Inventory('laptops.csv')\n",
    "print(inventory.check_promotion_dollars(1000))\n",
    "print(inventory.check_promotion_dollars(442))"
   ]
  },
  {
   "cell_type": "markdown",
   "metadata": {},
   "source": [
    "## 4. Improving the Promotion function algorithm"
   ]
  },
  {
   "cell_type": "code",
   "execution_count": 9,
   "metadata": {
    "collapsed": false
   },
   "outputs": [
    {
     "name": "stdout",
     "output_type": "stream",
     "text": [
      "True\n",
      "False\n"
     ]
    }
   ],
   "source": [
    "inventory = Inventory('laptops.csv')\n",
    "print(inventory.check_promotion_dollars_fast(1000))\n",
    "print(inventory.check_promotion_dollars_fast(442))"
   ]
  },
  {
   "cell_type": "markdown",
   "metadata": {},
   "source": [
    "## Measuring the Difference in Time Complexity"
   ]
  },
  {
   "cell_type": "code",
   "execution_count": 10,
   "metadata": {
    "collapsed": false
   },
   "outputs": [
    {
     "name": "stdout",
     "output_type": "stream",
     "text": [
      "41.16860771179199\n",
      "0.0012197494506835938\n"
     ]
    }
   ],
   "source": [
    "prices = [random.randint(100, 5000) for _ in range(100)]\n",
    "\n",
    "inventory = Inventory('laptops.csv')\n",
    "\n",
    "total_time_no_set = 0\n",
    "for price in prices:\n",
    "    start = time.time()\n",
    "    inventory.check_promotion_dollars(price)\n",
    "    end = time.time()\n",
    "    total_time_no_set += end - start\n",
    "\n",
    "total_time_set = 0\n",
    "for price in prices:\n",
    "    start = time.time()\n",
    "    inventory.check_promotion_dollars_fast(price)\n",
    "    end = time.time()\n",
    "    total_time_set += end - start\n",
    "\n",
    "print(total_time_no_set)\n",
    "print(total_time_set)"
   ]
  },
  {
   "cell_type": "markdown",
   "metadata": {
    "collapsed": true
   },
   "source": [
    "## Analysis\n",
    "\n",
    "There's a significant improvement in performance both in time and space complexities. When we solve for the quotient of both speeds recorded, the new method is 34,300 times faster than the older method, which is a result of analyzing and improving the Time Complexity. (42.6354 secs vs 0.0012 secs) As for the Space Complexity, we moved the code from a quadratic/cubic complexity to constant, which saved millions of bytes in the primary memory."
   ]
  },
  {
   "cell_type": "markdown",
   "metadata": {},
   "source": [
    "## 5. Finding Laptops within a Budget\n",
    "\n",
    "Added two methods `find_laptop_with_price` and `find_first_laptop_more_expensive`, involving the `sorted` built-in function in the `__init__` constructor to pre-sort the rows by price during instantiation."
   ]
  },
  {
   "cell_type": "code",
   "execution_count": 13,
   "metadata": {
    "collapsed": false
   },
   "outputs": [
    {
     "name": "stdout",
     "output_type": "stream",
     "text": [
      "683\n",
      "-1\n"
     ]
    }
   ],
   "source": [
    "inventory = Inventory('laptops.csv')            \n",
    "print(inventory.find_first_laptop_more_expensive(1000))\n",
    "print(inventory.find_first_laptop_more_expensive(10000))"
   ]
  }
 ],
 "metadata": {
  "kernelspec": {
   "display_name": "Python 3",
   "language": "python",
   "name": "python3"
  },
  "language_info": {
   "codemirror_mode": {
    "name": "ipython",
    "version": 3
   },
   "file_extension": ".py",
   "mimetype": "text/x-python",
   "name": "python",
   "nbconvert_exporter": "python",
   "pygments_lexer": "ipython3",
   "version": "3.4.3"
  }
 },
 "nbformat": 4,
 "nbformat_minor": 2
}
